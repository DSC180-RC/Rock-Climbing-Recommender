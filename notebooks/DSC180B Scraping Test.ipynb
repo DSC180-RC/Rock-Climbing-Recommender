{
 "cells": [
  {
   "cell_type": "code",
   "execution_count": 1,
   "metadata": {},
   "outputs": [],
   "source": [
    "import requests\n",
    "from bs4 import BeautifulSoup\n",
    "import json"
   ]
  },
  {
   "cell_type": "markdown",
   "metadata": {},
   "source": [
    "# scraping a route page"
   ]
  },
  {
   "cell_type": "code",
   "execution_count": 2,
   "metadata": {},
   "outputs": [],
   "source": [
    "route = \"https://www.mountainproject.com/route/105933562/\""
   ]
  },
  {
   "cell_type": "code",
   "execution_count": 3,
   "metadata": {},
   "outputs": [],
   "source": [
    "text = requests.get(route).text\n",
    "soup = BeautifulSoup(text, 'html.parser')"
   ]
  },
  {
   "cell_type": "code",
   "execution_count": 4,
   "metadata": {},
   "outputs": [
    {
     "data": {
      "text/plain": [
       "{'@context': 'http://schema.org/',\n",
       " '@type': 'Place',\n",
       " 'name': 'Exum Ridge',\n",
       " 'description': '5.5 Trad, Alpine',\n",
       " 'image': 'https://cdn2.apstatic.com/photos/climb/106068473_medium_1558470536.jpg',\n",
       " 'geo': {'@type': 'GeoCoordinates',\n",
       "  'latitude': '43.74091933',\n",
       "  'longitude': '-110.80252804'},\n",
       " 'aggregateRating': {'@type': 'AggregateRating',\n",
       "  'ratingValue': '3.7',\n",
       "  'reviewCount': '789'}}"
      ]
     },
     "execution_count": 4,
     "metadata": {},
     "output_type": "execute_result"
    }
   ],
   "source": [
    "data = json.loads(\"\".join(soup.find(\"script\", {\"type\":\"application/ld+json\"}).contents))\n",
    "data"
   ]
  },
  {
   "cell_type": "markdown",
   "metadata": {},
   "source": [
    "# scraping a user page"
   ]
  },
  {
   "cell_type": "code",
   "execution_count": 5,
   "metadata": {},
   "outputs": [],
   "source": [
    "user = 'https://www.mountainproject.com/user/10959/frances-fierst'"
   ]
  },
  {
   "cell_type": "code",
   "execution_count": 6,
   "metadata": {},
   "outputs": [],
   "source": [
    "links = []\n",
    "text = requests.get(user + '/ticks').text\n",
    "soup = BeautifulSoup(text, 'html.parser')\n",
    "num_pages = int(soup.find_all('a', {\"class\":\"no-click\"})[2].contents[0].strip()[-1])"
   ]
  },
  {
   "cell_type": "code",
   "execution_count": 7,
   "metadata": {},
   "outputs": [
    {
     "data": {
      "text/plain": [
       "[{'Sleepy Hallow': 'https://www.mountainproject.com/route/106599007/sleepy-hallow'},\n",
       " {'Girls with Chim(n)ay': 'https://www.mountainproject.com/route/111170331/girls-with-chimnay'},\n",
       " {'Bushwhacker': 'https://www.mountainproject.com/route/106599016/bushwhacker'},\n",
       " {'Route 66': 'https://www.mountainproject.com/route/106517711/route-66'},\n",
       " {'Good Dobby': 'https://www.mountainproject.com/route/108416293/good-dobby'},\n",
       " {'You Break It You Buy It': 'https://www.mountainproject.com/route/109619465/you-break-it-you-buy-it'},\n",
       " {\"Kibbles 'n Bits\": 'https://www.mountainproject.com/route/118229581/kibbles-n-bits'},\n",
       " {'Wherever I May Roam': 'https://www.mountainproject.com/route/105821077/wherever-i-may-roam'},\n",
       " {'Unknown crack': 'https://www.mountainproject.com/route/119654556/unknown-crack'},\n",
       " {'Fingers to hands': 'https://www.mountainproject.com/route/114460429/fingers-to-hands'},\n",
       " {'Ringlock crack': 'https://www.mountainproject.com/route/114459436/ringlock-crack'},\n",
       " {'The Dihedral': 'https://www.mountainproject.com/route/118989740/the-dihedral'},\n",
       " {'No name': 'https://www.mountainproject.com/route/117068405/no-name'},\n",
       " {'Round There': 'https://www.mountainproject.com/route/106194074/round-there'},\n",
       " {'Buffalo Power': 'https://www.mountainproject.com/route/105802275/buffalo-power'},\n",
       " {'Thin Air': 'https://www.mountainproject.com/route/105802279/thin-air'},\n",
       " {'Mossy Tits': 'https://www.mountainproject.com/route/109576345/mossy-tits'},\n",
       " {\"Yoder's Bounce test\": 'https://www.mountainproject.com/route/109575773/yoders-bounce-test'},\n",
       " {'The Safe Zone': 'https://www.mountainproject.com/route/109990368/the-safe-zone'},\n",
       " {'Purple Moon': 'https://www.mountainproject.com/route/119200695/purple-moon'},\n",
       " {'Phone Call From Satan': 'https://www.mountainproject.com/route/105803921/phone-call-from-satan'},\n",
       " {'Phone Call From Satan': 'https://www.mountainproject.com/route/105803921/phone-call-from-satan'},\n",
       " {'Moons of Pluto': 'https://www.mountainproject.com/route/105803003/moons-of-pluto'},\n",
       " {'Screaming Yellow Zonkers': 'https://www.mountainproject.com/route/105803440/screaming-yellow-zonkers'},\n",
       " {'Cosmos': 'https://www.mountainproject.com/route/105803446/cosmos'},\n",
       " {'Orgasmophoria': 'https://www.mountainproject.com/route/105812149/orgasmophoria'},\n",
       " {'Phantasmagoria': 'https://www.mountainproject.com/route/106807953/phantasmagoria'},\n",
       " {'Dances with Clams': 'https://www.mountainproject.com/route/105821110/dances-with-clams'},\n",
       " {'Pop Art': 'https://www.mountainproject.com/route/105821106/pop-art'},\n",
       " {'Dirty Pinkos': 'https://www.mountainproject.com/route/108347741/dirty-pinkos'},\n",
       " {'Lets Face It': 'https://www.mountainproject.com/route/105821090/lets-face-it'},\n",
       " {'Honey Pot': 'https://www.mountainproject.com/route/105814633/honey-pot'},\n",
       " {\"Chouinard's Crack (1st Half…\": 'https://www.mountainproject.com/route/106633246/chouinards-crack-1st-half-pitch-of-peking'},\n",
       " {'Tuff It Out': 'https://www.mountainproject.com/route/106070889/tuff-it-out'},\n",
       " {'No Golf Shoes': 'https://www.mountainproject.com/route/106295092/no-golf-shoes'},\n",
       " {'Snuffy Smith': 'https://www.mountainproject.com/route/105820358/snuffy-smith'},\n",
       " {'Leper Messiah': 'https://www.mountainproject.com/route/111244912/leper-messiah'},\n",
       " {'Orion': 'https://www.mountainproject.com/route/110643424/orion'},\n",
       " {'Bookworm': 'https://www.mountainproject.com/route/106154355/bookworm'},\n",
       " {'Ancylostoma': 'https://www.mountainproject.com/route/106193143/ancylostoma'},\n",
       " {\"Nightingale's on Vacation\": 'https://www.mountainproject.com/route/105820354/nightingales-on-vacation'},\n",
       " {'Irreverence': 'https://www.mountainproject.com/route/105820350/irreverence'},\n",
       " {'Revelations': 'https://www.mountainproject.com/route/105804040/revelations'},\n",
       " {'Right on Joe': 'https://www.mountainproject.com/route/111649827/right-on-joe'},\n",
       " {'Splitter Fingers': 'https://www.mountainproject.com/route/111649809/splitter-fingers'},\n",
       " {'Splitter Fingers': 'https://www.mountainproject.com/route/111649809/splitter-fingers'},\n",
       " {'Fingers through Bulges': 'https://www.mountainproject.com/route/111649772/fingers-through-bulges'},\n",
       " {'Dew, Chalk, and Blood': 'https://www.mountainproject.com/route/111649755/dew-chalk-and-blood'},\n",
       " {\"JT's Route\": 'https://www.mountainproject.com/route/105812559/jts-route'},\n",
       " {\"Drill 'Em and Fill 'Em\": 'https://www.mountainproject.com/route/105812551/drill-em-and-fill-em'},\n",
       " {'Phoenix': 'https://www.mountainproject.com/route/105790327/phoenix'},\n",
       " {'Hissing Llamas': 'https://www.mountainproject.com/route/105822353/hissing-llamas'},\n",
       " {'Cat Scan': 'https://www.mountainproject.com/route/105937358/cat-scan'},\n",
       " {'Light on the Path': 'https://www.mountainproject.com/route/105789064/light-on-the-path'},\n",
       " {'The Outsiders': 'https://www.mountainproject.com/route/105820726/the-outsiders'},\n",
       " {'5 Gallon Buckets': 'https://www.mountainproject.com/route/105789060/5-gallon-buckets'},\n",
       " {'Sunset Boulevard': 'https://www.mountainproject.com/route/111930553/sunset-boulevard'},\n",
       " {'Kunza Korner': 'https://www.mountainproject.com/route/105806885/kunza-korner'},\n",
       " {'Winter Sunset': 'https://www.mountainproject.com/route/116193127/winter-sunset'},\n",
       " {'Sunset Slab': 'https://www.mountainproject.com/route/105820884/sunset-slab'},\n",
       " {'Mantra': 'https://www.mountainproject.com/route/105899231/mantra'},\n",
       " {'Cruel Sister': 'https://www.mountainproject.com/route/105791785/cruel-sister'},\n",
       " {'Delicatessen': 'https://www.mountainproject.com/route/108750316/delicatessen'},\n",
       " {'Dire Wolf': 'https://www.mountainproject.com/route/108750306/dire-wolf'},\n",
       " {'Birds in a Rut': 'https://www.mountainproject.com/route/107341167/birds-in-a-rut'},\n",
       " {'Moonshine Dihedral': 'https://www.mountainproject.com/route/105790283/moonshine-dihedral'},\n",
       " {'Corner Shop': 'https://www.mountainproject.com/route/111603897/corner-shop'},\n",
       " {'Leap of Faith': 'https://www.mountainproject.com/route/111629871/leap-of-faith'},\n",
       " {'Vina Kulafu': 'https://www.mountainproject.com/route/107694546/vina-kulafu'},\n",
       " {'Long Live the Herm': 'https://www.mountainproject.com/route/105897933/long-live-the-herm'},\n",
       " {'Selee': 'https://www.mountainproject.com/route/106257692/selee'},\n",
       " {'King Cobra': 'https://www.mountainproject.com/route/105899219/king-cobra'},\n",
       " {'Cash Flow': 'https://www.mountainproject.com/route/105897928/cash-flow'},\n",
       " {'Route 9': 'https://www.mountainproject.com/route/107172763/route-9'},\n",
       " {'Route  14': 'https://www.mountainproject.com/route/107031555/route-14'},\n",
       " {'Route 8': 'https://www.mountainproject.com/route/107172755/route-8'},\n",
       " {'Soler': 'https://www.mountainproject.com/route/106061731/soler'},\n",
       " {'Black Crack': 'https://www.mountainproject.com/route/106777915/black-crack'},\n",
       " {'Le Gourmet Direct': 'https://www.mountainproject.com/route/105917520/le-gourmet-direct'},\n",
       " {\"Conn's West\": 'https://www.mountainproject.com/route/105977724/conns-west'},\n",
       " {'Stolen Chimney': 'https://www.mountainproject.com/route/105717310/stolen-chimney'},\n",
       " {'Direct Second Buttress': 'https://www.mountainproject.com/route/105761817/direct-second-buttress'},\n",
       " {\"Reservoir Doggin'\": 'https://www.mountainproject.com/route/107052748/reservoir-doggin'},\n",
       " {'Lead Man': 'https://www.mountainproject.com/route/107052753/lead-man'},\n",
       " {'Double Cross': 'https://www.mountainproject.com/route/105721615/double-cross'},\n",
       " {'Casual Route': 'https://www.mountainproject.com/route/105748496/casual-route'},\n",
       " {'Exum Ridge': 'https://www.mountainproject.com/route/105933562/exum-ridge'},\n",
       " {'Loose Lady': 'https://www.mountainproject.com/route/105722050/loose-lady'},\n",
       " {'Levitation 29': 'https://www.mountainproject.com/route/105732443/levitation-29'},\n",
       " {'Spaceshot': 'https://www.mountainproject.com/route/105717829/spaceshot'}]"
      ]
     },
     "execution_count": 7,
     "metadata": {},
     "output_type": "execute_result"
    }
   ],
   "source": [
    "for i in range(num_pages):\n",
    "    text = requests.get(user + '/ticks?page=' + str(i + 1)).text\n",
    "    soup = BeautifulSoup(text, 'html.parser')\n",
    "    all_links = soup.find_all('a')\n",
    "    for link in all_links:\n",
    "        if len(link.find_all('strong')) > 0 and len(link) < 2:\n",
    "            links.append({link.find('strong').contents[0]: link.get('href')})\n",
    "links"
   ]
  },
  {
   "cell_type": "code",
   "execution_count": null,
   "metadata": {},
   "outputs": [],
   "source": []
  },
  {
   "cell_type": "code",
   "execution_count": null,
   "metadata": {},
   "outputs": [],
   "source": []
  }
 ],
 "metadata": {
  "kernelspec": {
   "display_name": "Python 3",
   "language": "python",
   "name": "python3"
  },
  "language_info": {
   "codemirror_mode": {
    "name": "ipython",
    "version": 3
   },
   "file_extension": ".py",
   "mimetype": "text/x-python",
   "name": "python",
   "nbconvert_exporter": "python",
   "pygments_lexer": "ipython3",
   "version": "3.7.6"
  }
 },
 "nbformat": 4,
 "nbformat_minor": 2
}
